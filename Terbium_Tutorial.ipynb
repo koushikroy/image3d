{
  "nbformat": 4,
  "nbformat_minor": 0,
  "metadata": {
    "colab": {
      "name": "Terbium Tutorial.ipynb",
      "provenance": [],
      "authorship_tag": "ABX9TyO2rqlFL6/8eTs3y8vEvOVv",
      "include_colab_link": true
    },
    "kernelspec": {
      "name": "python3",
      "display_name": "Python 3"
    },
    "language_info": {
      "name": "python"
    }
  },
  "cells": [
    {
      "cell_type": "markdown",
      "metadata": {
        "id": "view-in-github",
        "colab_type": "text"
      },
      "source": [
        "<a href=\"https://colab.research.google.com/github/koushikroy/image3d/blob/main/Terbium_Tutorial.ipynb\" target=\"_parent\"><img src=\"https://colab.research.google.com/assets/colab-badge.svg\" alt=\"Open In Colab\"/></a>"
      ]
    },
    {
      "cell_type": "markdown",
      "metadata": {
        "id": "9wYMln929a2o"
      },
      "source": [
        "[Terbium Tutorial Page](https://terbium.io/2017/12/matplotlib-3d/)\n",
        "\n",
        "# Displaying 3D images in Python"
      ]
    },
    {
      "cell_type": "markdown",
      "metadata": {
        "id": "FsCwr5za9uHf"
      },
      "source": [
        "## Getting the data"
      ]
    },
    {
      "cell_type": "code",
      "metadata": {
        "id": "w6nqrGs382I1"
      },
      "source": [
        "import requests\n",
        "images = requests.get('http://www.fil.ion.ucl.ac.uk/spm/download/data/attention/attention.zip')"
      ],
      "execution_count": 1,
      "outputs": []
    },
    {
      "cell_type": "code",
      "metadata": {
        "id": "AaWd1ftR-Awr"
      },
      "source": [
        "import zipfile\n",
        "from io import BytesIO\n",
        "\n",
        "zipstream = BytesIO(images.content)\n",
        "zf = zipfile.ZipFile(zipstream)"
      ],
      "execution_count": 2,
      "outputs": []
    }
  ]
}